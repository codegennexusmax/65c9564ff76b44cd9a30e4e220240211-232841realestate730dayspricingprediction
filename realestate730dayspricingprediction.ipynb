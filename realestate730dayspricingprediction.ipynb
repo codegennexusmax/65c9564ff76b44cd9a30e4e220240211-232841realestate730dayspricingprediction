{
 "cells": [
  {
   "cell_type": "markdown",
   "id": "dcc016d1",
   "metadata": {},
   "source": [
    "***GENERATED CODE FOR realestate730dayspricingprediction PIPELINE.***"
   ]
  },
  {
   "cell_type": "markdown",
   "id": "1ca4368d",
   "metadata": {},
   "source": [
    "***DON'T EDIT THIS CODE.***"
   ]
  },
  {
   "cell_type": "markdown",
   "id": "30d36ff5",
   "metadata": {},
   "source": [
    "***CONNECTOR FUNCTIONS TO READ DATA.***"
   ]
  },
  {
   "cell_type": "code",
   "execution_count": null,
   "id": "a84e99da",
   "metadata": {},
   "outputs": [],
   "source": [
    "import os\n",
    "import datetime\n",
    "import logging\n",
    "import warnings\n",
    "warnings.filterwarnings('ignore')\n",
    "logging.basicConfig(format='%(levelname)s:%(message)s', level=logging.INFO)\n",
    "\n",
    "\n",
    "class HDFSConnector:\n",
    "\n",
    "    def fetch(spark, config):\n",
    "        ################### INPUT HADOOP HOST PORT TO CONNECT WITH ###############################\n",
    "        hdfs_server = str(os.environ['HDFS_SERVER'])\n",
    "        hdfs_port = int(os.environ['HDFS_PORT'])\n",
    "        df = spark.read.options(header='true', inferschema='true').csv(\n",
    "            f\"hdfs://{hdfs_server}:{hdfs_port}{eval(config)['url']}\", header='true')\n",
    "        display(df.limit(2).toPandas())\n",
    "        return df\n",
    "\n",
    "    def put(df, spark, config):\n",
    "        return df.write.format('csv').options(header='true' if eval(config)[\"is_header\"] == \"Use Header Line\" else 'false',\n",
    "                                              delimiter=eval(config)[\"delimiter\"]).save((\"%s %s\") % (datetime.datetime.now().strftime(\"%Y-%m-%d %H.%M.%S\")+\"_\", eval(config)['url']))\n"
   ]
  },
  {
   "cell_type": "markdown",
   "id": "7ecd5343",
   "metadata": {},
   "source": [
    "***TRANSFORMATIONS FUNCTIONS THAT WILL BE APPLIED ON DATA***"
   ]
  },
  {
   "cell_type": "code",
   "execution_count": null,
   "id": "3fcd2f4d",
   "metadata": {},
   "outputs": [],
   "source": [
    "import json\n",
    "from pyspark.sql.functions import col, when\n",
    "from pyspark.sql.functions import mean, stddev, min, max, col\n",
    "\n",
    "\n",
    "class CleanseData:\n",
    "    # def __init__(self,df):\n",
    "    #     #print()\n",
    "\n",
    "    def cleanValueForFE(self, value):\n",
    "        if value == None:\n",
    "            return \"\"\n",
    "        elif str(value) == 'nan':\n",
    "            return \"nan\"\n",
    "        else:\n",
    "            return value\n",
    "\n",
    "    def replaceByMean(self, feature, df, mean_=-1):\n",
    "        df1 = df\n",
    "        df1 = df1.dropna()\n",
    "        meanValue = self.cleanValueForFE(df1.select(\n",
    "            mean(col(feature.name)).alias('mean')).collect()[0][\"mean\"])\n",
    "        df = df.fillna(meanValue, subset=[feature.name])\n",
    "        df.withColumn(feature.name, when(col(feature.name) == \" \",\n",
    "                      meanValue).otherwise(col(feature.name).cast(\"Integer\")))\n",
    "        return df\n",
    "\n",
    "    def replaceByMax(self, feature, df, max_=-1):\n",
    "        df1 = df\n",
    "        df1 = df1.dropna()\n",
    "        maxValue = self.cleanValueForFE(df1.select(\n",
    "            max(col(feature.name)).alias('max')).collect()[0][\"max\"])\n",
    "        df = df.fillna(maxValue, subset=[feature.name])\n",
    "        df = df.withColumn(feature.name,\n",
    "                           when(col(feature.name) == \" \", maxValue).otherwise(col(feature.name)))\n",
    "        return df\n",
    "\n",
    "    def replaceByMin(self, feature, df, min_=-1):\n",
    "        df1 = df\n",
    "        df1 = df1.dropna()\n",
    "        minValue = self.cleanValueForFE(df1.select(\n",
    "            min(col(feature.name)).alias('min')).collect()[0][\"min\"])\n",
    "        df = df.fillna(minValue, subset=[feature.name])\n",
    "        df = df.withColumn(feature.name,\n",
    "                           when(col(feature.name) == \" \", minValue).otherwise(col(feature.name)))\n",
    "        return df\n",
    "\n",
    "    def replaceByStandardDeviation(self, feature, df, stddev_=-1):\n",
    "        df1 = df\n",
    "        df1 = df1.dropna()\n",
    "        stddevValue = self.cleanValueForFE(df1.select(\n",
    "            stddev(col(feature.name)).alias('stddev')).collect()[0][\"stddev\"])\n",
    "        df = df.fillna(stddevValue, subset=[feature.name])\n",
    "        df = df.withColumn(feature.name,\n",
    "                           when(col(feature.name) == \" \", stddevValue).otherwise(col(feature.name)))\n",
    "        return df\n",
    "\n",
    "    def replaceDateRandomly(self, feature, df):\n",
    "        df1 = df\n",
    "        df1 = df1.dropna()\n",
    "        fillValue = self.cleanValueForFE(\n",
    "            df.where(col(feature.name).isNotNull()).head(1)[0][feature.name])\n",
    "        df = df.fillna(str(fillValue), subset=[feature.name])\n",
    "        df = df.withColumn(feature.name,\n",
    "                           when(col(feature.name) == \" \", fillValue).otherwise(col(feature.name)))\n",
    "        # print(\"CleanseData:replaceDateRandomly Schema : \", df.#printSchema())\n",
    "        return df\n",
    "\n",
    "    def replaceNullValues(self, fList, df):\n",
    "        featuresList = df.schema.fields\n",
    "        for featureObj in fList:\n",
    "            for feat in featuresList:\n",
    "                if featureObj[\"feature\"] in feat.name:\n",
    "                    featureName = feat\n",
    "                    if \"mean\" in featureObj[\"replaceby\"]:\n",
    "                        df = self.replaceByMean(featureName, df)\n",
    "                    elif \"max\" in featureObj[\"replaceby\"]:\n",
    "                        df = self.replaceByMax(featureName, df)\n",
    "                    elif \"min\" in featureObj[\"replaceby\"]:\n",
    "                        df = self.replaceByMin(featureName, df)\n",
    "                    elif \"stddev\" in featureObj[\"replaceby\"]:\n",
    "                        df = self.replaceByStandardDeviation(featureName, df)\n",
    "                    elif \"random\" in featureObj[\"replaceby\"]:\n",
    "                        df = self.replaceDateRandomly(featureName, df)\n",
    "        return df\n",
    "\n",
    "\n",
    "class TransformationMain:\n",
    "    # TODO: change df argument in run with following\n",
    "    def run(transformationDF, config):\n",
    "        configObj = json.loads(config)\n",
    "        featureData = configObj[\"FE\"]\n",
    "        transformationDF = CleanseData().replaceNullValues(featureData, transformationDF)\n",
    "        display(transformationDF.limit(2).toPandas())\n",
    "        return transformationDF\n"
   ]
  },
  {
   "cell_type": "markdown",
   "id": "de8a067f",
   "metadata": {},
   "source": [
    "***AUTOML FUNCTIONS***"
   ]
  },
  {
   "cell_type": "code",
   "execution_count": null,
   "id": "e3d9cd93",
   "metadata": {},
   "outputs": [],
   "source": [
    "from sklearn.model_selection import train_test_split\n",
    "from tpot import TPOTRegressor\n",
    "import pyspark\n",
    "\n",
    "\n",
    "def functionRegression(sparkDF, listOfFeatures, label):\n",
    "    sparkDF.persist(pyspark.StorageLevel.MEMORY_AND_DISK)\n",
    "    df = sparkDF.toPandas()\n",
    "    X = (df.drop(label, axis=1))[listOfFeatures].values\n",
    "    y = df[label].values\n",
    "    X_train, X_test, y_train, y_test = train_test_split(\n",
    "        X, y, random_state=1, test_size=0.1)\n",
    "    tpotModel = TPOTRegressor(verbosity=3, generations=10, max_time_mins=5,\n",
    "                              n_jobs=-1, random_state=25, population_size=15, use_dask=True)\n",
    "    tpotModel.fit(X_train, y_train)\n",
    "    display(\" Error rate of Model : %s\" % tpotModel.score(X_test, y_test))\n",
    "    data = {'model': tpotModel,\n",
    "            'X_test': X_test,\n",
    "            'y_test': y_test,\n",
    "            'label': label,\n",
    "            'columnNames': listOfFeatures}\n",
    "    return data\n"
   ]
  },
  {
   "cell_type": "markdown",
   "id": "2c3981f9",
   "metadata": {},
   "source": [
    "***READING DATAFRAME***"
   ]
  },
  {
   "cell_type": "code",
   "execution_count": null,
   "id": "41064d85",
   "metadata": {},
   "outputs": [],
   "source": [
    "############## CREATE SPARK SESSION ############################ ENTER YOUR SPARK MASTER IP AND PORT TO CONNECT TO SERVER ################\n",
    "from pyspark.sql import SparkSession\n",
    "spark = SparkSession.builder.master('local[1]').getOrCreate()\n",
    "#%run realestate730dayspricingpredictionHooks.ipynb\n",
    "try:\n",
    "\t#sourcePreExecutionHook()\n",
    "\n",
    "\tautofecleaneddataet = HDFSConnector.fetch(spark, \"{'url': '/FileStore/platform/uploadedSourceFiles/part-00000-b478d759-af96-46ef-85d2-66c3fe8a929f-c000.csv', 'filename': '1707693385AutoFECleanedDataset.csv', 'delimiter': ',', 'file_type': 'Delimeted', 'FilePath': '/Real Estate Sales 730 Days/AutoFECleanedDataset.csv', 'viewFileName': 'AutoFECleanedDataset.csv', 'is_header': 'Use Header Line', 'baseType': 'hdfs', 'server_url': '/numtraPlatform/NumtraPlatformV3/uploads/platform/', 'results_url': 'http://ml.colaberry.com:44040/api/read/hdfs'}\")\n",
    "\n",
    "except Exception as ex: \n",
    "\tlogging.error(ex)\n",
    "#spark.stop()\n"
   ]
  },
  {
   "cell_type": "markdown",
   "id": "007d5024",
   "metadata": {},
   "source": [
    "***TRANSFORMING DATAFRAME***"
   ]
  },
  {
   "cell_type": "code",
   "execution_count": null,
   "id": "0bd4cfbd",
   "metadata": {},
   "outputs": [],
   "source": [
    "#%run realestate730dayspricingpredictionHooks.ipynb\n",
    "try:\n",
    "\t#transformationPreExecutionHook()\n",
    "\n",
    "\trealestatedayspricingpredictionautofe = TransformationMain.run(autofecleaneddataet,json.dumps( {\"FE\": [{\"transformationsData\": [{\"transformation_label\": \"novalue\"}], \"feature\": \"PropertyID\", \"transformation\": [{\"transformation\": \"novalue\", \"selectedAsDefault\": 1}], \"type\": \"numeric\", \"replaceby\": \"mean\", \"selected\": \"True\", \"stats\": {\"count\": \"3679\", \"mean\": \"11187.54\", \"stddev\": \"6459.1\", \"min\": \"9\", \"max\": \"29427\", \"missing\": \"0\"}, \"updatedLabel\": \"PropertyID\"}, {\"transformationsData\": [{\"transformation_label\": \"novalue\"}], \"feature\": \"xrCompositeLandUseID\", \"transformation\": [{\"transformation\": \"novalue\", \"selectedAsDefault\": 1}], \"type\": \"numeric\", \"replaceby\": \"mean\", \"selected\": \"True\", \"stats\": {\"count\": \"3679\", \"mean\": \"9.83\", \"stddev\": \"47.0\", \"min\": \"3\", \"max\": \"455\", \"missing\": \"0\"}, \"updatedLabel\": \"xrCompositeLandUseID\"}, {\"transformationsData\": [{\"transformation_label\": \"novalue\"}], \"feature\": \"xrBuildingTypeID\", \"transformation\": [{\"transformation\": \"novalue\", \"selectedAsDefault\": 1}], \"type\": \"numeric\", \"replaceby\": \"mean\", \"selected\": \"True\", \"stats\": {\"count\": \"3679\", \"mean\": \"10.47\", \"stddev\": \"4.95\", \"min\": \"0\", \"max\": \"30\", \"missing\": \"0\"}, \"updatedLabel\": \"xrBuildingTypeID\"}, {\"transformationsData\": [{\"transformation_label\": \"novalue\"}], \"feature\": \"LocationStartNumber\", \"transformation\": [{\"transformation\": \"novalue\", \"selectedAsDefault\": 1}], \"type\": \"numeric\", \"replaceby\": \"mean\", \"selected\": \"True\", \"stats\": {\"count\": \"3679\", \"mean\": \"150.19\", \"stddev\": \"242.96\", \"min\": \"1\", \"max\": \"2718\", \"missing\": \"0\"}, \"updatedLabel\": \"LocationStartNumber\"}, {\"transformationsData\": [{\"transformation_label\": \"novalue\"}], \"feature\": \"xrPrimaryNeighborhoodID\", \"transformation\": [{\"transformation\": \"novalue\", \"selectedAsDefault\": 1}], \"type\": \"numeric\", \"replaceby\": \"mean\", \"selected\": \"True\", \"stats\": {\"count\": \"3679\", \"mean\": \"138.3\", \"stddev\": \"100.28\", \"min\": \"1\", \"max\": \"492\", \"missing\": \"0\"}, \"updatedLabel\": \"xrPrimaryNeighborhoodID\"}, {\"transformationsData\": [{\"transformation_label\": \"novalue\"}], \"feature\": \"LandSF\", \"transformation\": [{\"transformation\": \"novalue\", \"selectedAsDefault\": 1}], \"type\": \"numeric\", \"replaceby\": \"mean\", \"selected\": \"True\", \"stats\": {\"count\": \"3679\", \"mean\": \"7830.82\", \"stddev\": \"5570.81\", \"min\": \"0\", \"max\": \"156200\", \"missing\": \"0\"}, \"updatedLabel\": \"LandSF\"}, {\"transformationsData\": [{\"transformation_label\": \"novalue\"}], \"feature\": \"TotalFinishedArea\", \"type\": \"real\", \"selected\": \"True\", \"replaceby\": \"mean\", \"stats\": {\"count\": \"3679\", \"mean\": \"2220.96\", \"stddev\": \"4985.83\", \"min\": \"371.0\", \"max\": \"293441.0\", \"missing\": \"0\"}, \"transformation\": [{\"transformation\": \"novalue\", \"selectedAsDefault\": 1}], \"updatedLabel\": \"TotalFinishedArea\"}, {\"transformationsData\": [{\"transformation_label\": \"novalue\"}], \"feature\": \"LivingUnits\", \"transformation\": [{\"transformation\": \"novalue\", \"selectedAsDefault\": 1}], \"type\": \"numeric\", \"replaceby\": \"mean\", \"selected\": \"True\", \"stats\": {\"count\": \"3679\", \"mean\": \"1.7\", \"stddev\": \"4.24\", \"min\": \"0\", \"max\": \"252\", \"missing\": \"0\"}, \"updatedLabel\": \"LivingUnits\"}, {\"transformationsData\": [{\"transformation_label\": \"novalue\"}], \"feature\": \"SalePrice\", \"transformation\": [{\"transformation\": \"novalue\", \"selectedAsDefault\": 1}], \"type\": \"numeric\", \"replaceby\": \"mean\", \"selected\": \"True\", \"stats\": {\"count\": \"3679\", \"mean\": \"1273405.86\", \"stddev\": \"5409685.66\", \"min\": \"0\", \"max\": \"60500000\", \"missing\": \"0\"}, \"updatedLabel\": \"SalePrice\"}, {\"transformationsData\": [{\"transformation_label\": \"novalue\"}], \"feature\": \"TotalAppraisedValue\", \"transformation\": [{\"transformation\": \"novalue\", \"selectedAsDefault\": 1}], \"type\": \"numeric\", \"replaceby\": \"mean\", \"selected\": \"True\", \"stats\": {\"count\": \"3679\", \"mean\": \"186883.59\", \"stddev\": \"388439.6\", \"min\": \"0\", \"max\": \"22640100\", \"missing\": \"0\"}, \"updatedLabel\": \"TotalAppraisedValue\"}, {\"transformationsData\": [{\"transformation_label\": \"novalue\"}], \"feature\": \"xrSalesValidityID\", \"transformation\": [{\"transformation\": \"novalue\", \"selectedAsDefault\": 1}], \"type\": \"numeric\", \"replaceby\": \"mean\", \"selected\": \"True\", \"stats\": {\"count\": \"3679\", \"mean\": \"11.01\", \"stddev\": \"9.98\", \"min\": \"0\", \"max\": \"27\", \"missing\": \"0\"}, \"updatedLabel\": \"xrSalesValidityID\"}, {\"transformationsData\": [{\"transformation_label\": \"novalue\"}], \"feature\": \"xrDeedID\", \"transformation\": [{\"transformation\": \"novalue\", \"selectedAsDefault\": 1}], \"type\": \"numeric\", \"replaceby\": \"mean\", \"selected\": \"True\", \"stats\": {\"count\": \"3679\", \"mean\": \"9.2\", \"stddev\": \"2.42\", \"min\": \"0\", \"max\": \"19\", \"missing\": \"0\"}, \"updatedLabel\": \"xrDeedID\"}, {\"transformationsData\": [{\"transformation_label\": \"novalue\"}], \"feature\": \"ParcelID_stringindexer\", \"type\": \"real\", \"selected\": \"True\", \"replaceby\": \"mean\", \"stats\": {\"count\": \"3679\", \"mean\": \"1298.66\", \"stddev\": \"966.91\", \"min\": \"0.0\", \"max\": \"3155.0\", \"missing\": \"0\"}, \"transformation\": [{\"transformation\": \"novalue\", \"selectedAsDefault\": 1}], \"updatedLabel\": \"ParcelID_stringindexer\"}, {\"transformationsData\": [{\"transformation_label\": \"novalue\"}], \"feature\": \"ApartmentUnitNumber_stringindexer\", \"type\": \"real\", \"selected\": \"True\", \"replaceby\": \"mean\", \"stats\": {\"count\": \"3679\", \"mean\": \"53.58\", \"stddev\": \"123.29\", \"min\": \"0.0\", \"max\": \"578.0\", \"missing\": \"0\"}, \"transformation\": [{\"transformation\": \"novalue\", \"selectedAsDefault\": 1}], \"updatedLabel\": \"ApartmentUnitNumber_strin...\"}, {\"transformationsData\": [{\"transformation_label\": \"novalue\"}], \"feature\": \"StreetNameAndWay_stringindexer\", \"type\": \"real\", \"selected\": \"True\", \"replaceby\": \"mean\", \"stats\": {\"count\": \"3679\", \"mean\": \"92.05\", \"stddev\": \"93.19\", \"min\": \"0.0\", \"max\": \"394.0\", \"missing\": \"0\"}, \"transformation\": [{\"transformation\": \"novalue\", \"selectedAsDefault\": 1}], \"updatedLabel\": \"StreetNameAndWay_stringin...\"}, {\"transformationsData\": [{\"transformation_label\": \"novalue\"}], \"feature\": \"OwnerLastName_stringindexer\", \"type\": \"real\", \"selected\": \"True\", \"replaceby\": \"mean\", \"stats\": {\"count\": \"3679\", \"mean\": \"510.75\", \"stddev\": \"547.58\", \"min\": \"0.0\", \"max\": \"1858.0\", \"missing\": \"0\"}, \"transformation\": [{\"transformation\": \"novalue\", \"selectedAsDefault\": 1}], \"updatedLabel\": \"OwnerLastName_stringindex...\"}, {\"transformationsData\": [{\"transformation_label\": \"novalue\"}], \"feature\": \"OwnerFirstName_stringindexer\", \"type\": \"real\", \"selected\": \"True\", \"replaceby\": \"mean\", \"stats\": {\"count\": \"3679\", \"mean\": \"265.61\", \"stddev\": \"373.02\", \"min\": \"0.0\", \"max\": \"1334.0\", \"missing\": \"0\"}, \"transformation\": [{\"transformation\": \"novalue\", \"selectedAsDefault\": 1}], \"updatedLabel\": \"OwnerFirstName_stringinde...\"}, {\"transformationsData\": [{\"transformation_label\": \"novalue\"}], \"feature\": \"PrimaryGrantor_stringindexer\", \"type\": \"real\", \"selected\": \"True\", \"replaceby\": \"mean\", \"stats\": {\"count\": \"3679\", \"mean\": \"1084.94\", \"stddev\": \"958.62\", \"min\": \"0.0\", \"max\": \"2951.0\", \"missing\": \"0\"}, \"transformation\": [{\"transformation\": \"novalue\", \"selectedAsDefault\": 1}], \"updatedLabel\": \"PrimaryGrantor_stringinde...\"}, {\"transformationsData\": [{\"transformation_label\": \"novalue\"}], \"feature\": \"SaleDate_stringindexer\", \"type\": \"real\", \"selected\": \"True\", \"replaceby\": \"mean\", \"stats\": {\"count\": \"3679\", \"mean\": \"148.07\", \"stddev\": \"129.15\", \"min\": \"0.0\", \"max\": \"477.0\", \"missing\": \"0\"}, \"transformation\": [{\"transformation\": \"novalue\", \"selectedAsDefault\": 1}], \"updatedLabel\": \"SaleDate_stringindexer\"}, {\"transformationsData\": [{\"transformation_label\": \"novalue\"}], \"feature\": \"LegalReference_stringindexer\", \"type\": \"real\", \"selected\": \"True\", \"replaceby\": \"mean\", \"stats\": {\"count\": \"3679\", \"mean\": \"1391.99\", \"stddev\": \"1086.93\", \"min\": \"0.0\", \"max\": \"3365.0\", \"missing\": \"0\"}, \"transformation\": [{\"transformation\": \"novalue\", \"selectedAsDefault\": 1}], \"updatedLabel\": \"LegalReference_stringinde...\"}, {\"transformationsData\": [{\"transformation_label\": \"novalue\"}], \"feature\": \"AssrLandUse_stringindexer\", \"type\": \"real\", \"selected\": \"True\", \"replaceby\": \"mean\", \"stats\": {\"count\": \"3679\", \"mean\": \"1.39\", \"stddev\": \"1.24\", \"min\": \"0.0\", \"max\": \"7.0\", \"missing\": \"0\"}, \"transformation\": [{\"transformation\": \"novalue\", \"selectedAsDefault\": 1}], \"updatedLabel\": \"AssrLandUse_stringindexer\"}]}))\n",
    "\n",
    "\t#transformationPostExecutionHook(realestatedayspricingpredictionautofe)\n",
    "\n",
    "except Exception as ex: \n",
    "\tlogging.error(ex)\n"
   ]
  },
  {
   "cell_type": "markdown",
   "id": "4ba3a918",
   "metadata": {},
   "source": [
    "***TRAIN MODEL***"
   ]
  },
  {
   "cell_type": "code",
   "execution_count": null,
   "id": "caa2acbd",
   "metadata": {},
   "outputs": [],
   "source": [
    "#%run realestate730dayspricingpredictionHooks.ipynb\n",
    "try:\n",
    "\t#mlPreExecutionHook()\n",
    "\n",
    "\tdataAutoML=functionRegression(realestatedayspricingpredictionautofe, [\"PropertyID\", \"xrCompositeLandUseID\", \"xrBuildingTypeID\", \"LocationStartNumber\", \"xrPrimaryNeighborhoodID\", \"LandSF\", \"TotalFinishedArea\", \"LivingUnits\", \"TotalAppraisedValue\", \"xrSalesValidityID\", \"xrDeedID\", \"ParcelID_stringindexer\", \"ApartmentUnitNumber_stringindexer\", \"StreetNameAndWay_stringindexer\", \"OwnerLastName_stringindexer\", \"OwnerFirstName_stringindexer\", \"PrimaryGrantor_stringindexer\", \"SaleDate_stringindexer\", \"LegalReference_stringindexer\", \"AssrLandUse_stringindexer\"], \"SalePrice\")\n",
    "\n",
    "\t#mlPostExecutionHook(dataAutoML)\n",
    "\n",
    "except Exception as ex: \n",
    "\tlogging.error(ex)\n",
    "#spark.stop()\n"
   ]
  },
  {
   "cell_type": "markdown",
   "id": "2926ac1c",
   "metadata": {},
   "source": [
    "***PREDICT ON TRAINED MODEL***"
   ]
  },
  {
   "cell_type": "code",
   "execution_count": null,
   "id": "1c5102d4",
   "metadata": {},
   "outputs": [],
   "source": [
    "import pandas as pd\n",
    "import numpy as np\n",
    "import sklearn.metrics\n",
    "\n",
    "try:\n",
    "    model=dataAutoML ['model']\n",
    "    X_test=dataAutoML['X_test']\n",
    "    y_test=dataAutoML['y_test']\n",
    "    label=dataAutoML['label']\n",
    "    columnNames=dataAutoML['columnNames']\n",
    "    if label in columnNames:\n",
    "        columnNames.remove(label)\n",
    "    predicted=label+\"_predicted\"\n",
    "    y_predicted=model.predict(X_test)\n",
    "    df =pd.DataFrame(X_test , columns=columnNames)\n",
    "    df[label]=y_test\n",
    "    df[predicted]=y_predicted\n",
    "    columnNames.insert(0,predicted)\n",
    "    columnNames.insert(0,label)\n",
    "    df = df[columnNames]\n",
    "    R2 = np.round(sklearn.metrics.r2_score(y_test, y_predicted), 1)\n",
    "    Mean_Squared_Error = np.round(sklearn.metrics.mean_squared_error(y_test, y_predicted), 1)\n",
    "    Mean_Absolute_Error = np.round(sklearn.metrics.mean_absolute_error(y_test, y_predicted), 1)\n",
    "    display(\" R2 score of Prediction on test data    : %s\"%R2)\n",
    "    display(\" Mean Squared Error of Prediction on test data    : %s\"%Mean_Squared_Error)\n",
    "    display(\" Mean Absolute Error of Prediction on test data   : %s\"%Mean_Absolute_Error)\n",
    "    display(df.head())\n",
    "except Exception as ex:\n",
    "    logging.error(ex)\n",
    "\n",
    "spark.stop()\n",
    "\n"
   ]
  }
 ],
 "metadata": {},
 "nbformat": 4,
 "nbformat_minor": 5
}
